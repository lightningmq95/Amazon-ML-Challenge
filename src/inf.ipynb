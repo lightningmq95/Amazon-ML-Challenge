{
 "cells": [
  {
   "cell_type": "code",
   "execution_count": 16,
   "metadata": {},
   "outputs": [],
   "source": [
    "import joblib\n",
    "import re\n",
    "import numpy as np"
   ]
  },
  {
   "cell_type": "code",
   "execution_count": 17,
   "metadata": {},
   "outputs": [],
   "source": [
    "loaded_model = joblib.load('../best_model.pkl')\n",
    "label_encoder_group = joblib.load('../label_encoder_group.pkl')\n",
    "label_encoder_entity = joblib.load('../label_encoder_entity.pkl')"
   ]
  },
  {
   "cell_type": "code",
   "execution_count": 18,
   "metadata": {},
   "outputs": [],
   "source": [
    "# Function to convert entity_value to a common unit (e.g., meters)\n",
    "def convert_to_meters(value):\n",
    "    match = re.match(r\"([0-9.]+)\\s*(\\w+)\", value)\n",
    "    if not match:\n",
    "        return None\n",
    "    num, unit = match.groups()\n",
    "    num = float(num)\n",
    "    unit = unit.lower()\n",
    "    if unit in ['mm', 'millimeter', 'millimeters', 'millimetre', 'millimetres']:\n",
    "        return num / 1000\n",
    "    elif unit in ['cm', 'centimeter', 'centimeters', 'centimetre']:\n",
    "        return num / 100\n",
    "    elif unit in ['m', 'meter', 'meters', 'metre', 'metres']:\n",
    "        return num\n",
    "    elif unit in ['km', 'kilometer', 'kilometers', 'kilometre', 'kilometres']:\n",
    "        return num * 1000\n",
    "    else:\n",
    "        return None"
   ]
  },
  {
   "cell_type": "code",
   "execution_count": 19,
   "metadata": {},
   "outputs": [
    {
     "name": "stdout",
     "output_type": "stream",
     "text": [
      "depth: 0.0694\n",
      "height: 0.0572\n",
      "width: 0.8734\n",
      "Predicted Dimension Type: width\n"
     ]
    }
   ],
   "source": [
    "# Function to predict dimension type\n",
    "def predict_dimension_type(model, group_id, entity_value):\n",
    "    group_id_encoded = label_encoder_group.transform([group_id])[0]\n",
    "    entity_value_meters = convert_to_meters(entity_value)\n",
    "    if entity_value_meters is None:\n",
    "        raise ValueError(\"Invalid entity_value format\")\n",
    "    input_data = np.array([[group_id_encoded, entity_value_meters]])\n",
    "    prediction_encoded = model.predict(input_data)[0]\n",
    "    prediction = label_encoder_entity.inverse_transform([prediction_encoded])[0]\n",
    "\n",
    "    # Get confidence scores for all classes\n",
    "    confidence_scores = model.predict_proba(input_data)[0]\n",
    "    entity_types = label_encoder_entity.inverse_transform(np.arange(len(confidence_scores)))\n",
    "    \n",
    "    # Print confidence scores\n",
    "    for entity_type, score in zip(entity_types, confidence_scores):\n",
    "        print(f'{entity_type}: {score:.4f}')\n",
    "\n",
    "    return prediction\n",
    "\n",
    "# Example usage\n",
    "group_id = 675317\n",
    "entity_value = '22.0 millimetre'\n",
    "predicted_dimension_type = predict_dimension_type(loaded_model, group_id, entity_value)\n",
    "print(f'Predicted Dimension Type: {predicted_dimension_type}')"
   ]
  },
  {
   "cell_type": "code",
   "execution_count": 20,
   "metadata": {},
   "outputs": [],
   "source": [
    "def get_dimension(model, group_id, entity_name, entity_values):\n",
    "    group_id_encoded = label_encoder_group.transform([group_id])[0]\n",
    "    entity_name_encoded = label_encoder_entity.transform([entity_name])[0]\n",
    "    \n",
    "    best_entity_value = None\n",
    "    highest_score = -1\n",
    "    \n",
    "    for entity_value in entity_values:\n",
    "        entity_value_meters = convert_to_meters(entity_value)\n",
    "        if entity_value_meters is None:\n",
    "            continue\n",
    "        input_data = np.array([[group_id_encoded, entity_value_meters]])\n",
    "        \n",
    "        # Get confidence scores for all classes\n",
    "        confidence_scores = model.predict_proba(input_data)[0]\n",
    "        \n",
    "        # Get the score for the specific entity_name\n",
    "        score = confidence_scores[entity_name_encoded]\n",
    "        \n",
    "        if score > highest_score:\n",
    "            highest_score = score\n",
    "            best_entity_value = entity_value\n",
    "    \n",
    "    if best_entity_value is None:\n",
    "        raise ValueError(\"No valid entity_value found\")\n",
    "    \n",
    "    return best_entity_value"
   ]
  },
  {
   "cell_type": "code",
   "execution_count": 27,
   "metadata": {},
   "outputs": [
    {
     "name": "stdout",
     "output_type": "stream",
     "text": [
      "Best Entity Value for width: 9.0 centimeter\n"
     ]
    }
   ],
   "source": [
    "# Example usage\n",
    "group_id = 916768\n",
    "entity_name = 'width'\n",
    "entity_values = ['9.0 centimeter', '5.0 centimeter']\n",
    "best_entity_value = get_dimension(loaded_model, group_id, entity_name, entity_values)\n",
    "print(f'Best Entity Value for {entity_name}: {best_entity_value}')"
   ]
  }
 ],
 "metadata": {
  "kernelspec": {
   "display_name": "dev",
   "language": "python",
   "name": "python3"
  },
  "language_info": {
   "codemirror_mode": {
    "name": "ipython",
    "version": 3
   },
   "file_extension": ".py",
   "mimetype": "text/x-python",
   "name": "python",
   "nbconvert_exporter": "python",
   "pygments_lexer": "ipython3",
   "version": "3.9.19"
  }
 },
 "nbformat": 4,
 "nbformat_minor": 2
}
